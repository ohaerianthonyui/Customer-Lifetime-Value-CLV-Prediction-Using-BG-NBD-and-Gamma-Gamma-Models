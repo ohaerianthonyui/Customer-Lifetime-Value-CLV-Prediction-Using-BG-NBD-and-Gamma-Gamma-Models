{
 "cells": [
  {
   "cell_type": "markdown",
   "id": "d567bfb7-c7eb-49a7-9a3e-e00b941dd04e",
   "metadata": {},
   "source": [
    "### 📝 Project Title: Customer Lifetime Value (CLV) Prediction Using BG/NBD and Gamma-Gamma Models\n"
   ]
  },
  {
   "cell_type": "markdown",
   "id": "2efa4224-4833-45e1-964e-41c19c51c06c",
   "metadata": {},
   "source": [
    "## 📌 Introduction\n",
    "\n",
    "In today’s competitive retail environment, understanding and predicting customer value is essential for strategic decision-making. This project leverages the UCI Online Retail Dataset to estimate Customer Lifetime Value (CLV) using probabilistic models. Specifically, the BG/NBD (Beta Geometric/Negative Binomial Distribution) and Gamma-Gamma models are applied to capture purchasing frequency and monetary value respectively.\n",
    "\n",
    "\n",
    "The goal is to identify high-value customers and support data-driven marketing strategies such as personalized offers, customer segmentation, and retention efforts.\n",
    "\n",
    "\n",
    "\n",
    "## 🧾 Dataset Overview\n",
    "\n",
    "Source: UCI Machine Learning Repository – Online Retail\n",
    "\n",
    "Data Range: December 2010 – December 2011\n",
    "\n",
    "Key Columns:\n",
    "\n",
    "InvoiceNo: Unique transaction code\n",
    "\n",
    "StockCode: Product identifier\n",
    "\n",
    "Description: Product name\n",
    "\n",
    "Quantity: Units purchased\n",
    "\n",
    "InvoiceDate: Date of transaction\n",
    "\n",
    "UnitPrice: Price per unit\n",
    "\n",
    "CustomerID: Unique customer ID\n",
    "\n",
    "Country: Country of customer\n",
    "\n",
    "\n",
    "\n",
    "## ⚙️ Tools and Libraries\n",
    "\n",
    "Programming Language: Python\n",
    "\n",
    "Libraries:\n",
    "\n",
    "pandas, numpy: Data manipulation\n",
    "\n",
    "lifetimes: CLV modeling\n",
    "\n",
    "matplotlib, seaborn: Visualization\n",
    "\n",
    "\n",
    "\n",
    "## 🧼 Data Preprocessing\n",
    "\n",
    "Steps:\n",
    "\n",
    "Removed null CustomerIDs\n",
    "\n",
    "Filtered out cancelled/negative transactions\n",
    "\n",
    "Created TotalPrice as Quantity * UnitPrice\n",
    "\n",
    "Parsed and standardized InvoiceDate\n",
    "\n",
    "\n",
    "## 📊 Modeling Approach\n",
    "\n",
    "1. BG/NBD Model – Predict Purchase Frequency\n",
    "   \n",
    "The BG/NBD model estimates:\n",
    "\n",
    "How often a customer will make a purchase in a given time window\n",
    "\n",
    "The probability that a customer is still \"alive\" (i.e., active)\n",
    "\n",
    "2. Gamma-Gamma Model – Predict Average Spend\n",
    "   \n",
    "This model assumes:\n",
    "\n",
    "Transaction monetary value is independent of purchase frequency\n",
    "\n",
    "Gamma distributions govern individual-level monetary averages\n",
    "\n",
    "3. CLV Estimation\n",
    "   \n",
    "CLV is calculated over a 6-month horizon with a monthly discount rate.\n",
    "\n",
    "\n",
    "## 📈 Results and Insights\n",
    "\n",
    "Predicted future purchases and monetary values for each customer\n",
    "\n",
    "Identified top 10 customers with the highest CLV\n",
    "\n",
    "Generated visual insights to support business targeting\n",
    "\n",
    "\n",
    "## ✅ Conclusion\n",
    "\n",
    "This project demonstrates how probabilistic models can be applied to real-world e-commerce data to derive actionable insights. By using BG/NBD and Gamma-Gamma models, we accurately estimated future customer behavior and value, enabling more informed marketing strategies.\n",
    "\n"
   ]
  },
  {
   "cell_type": "code",
   "execution_count": 1,
   "id": "724c6cd8-e9b7-490d-92f7-a76154436a25",
   "metadata": {},
   "outputs": [],
   "source": [
    "import pandas as pd\n",
    "import numpy as np\n",
    "from lifetimes import BetaGeoFitter, GammaGammaFitter\n",
    "from lifetimes.utils import summary_data_from_transaction_data\n",
    "import matplotlib.pyplot as plt\n",
    "import seaborn as sns"
   ]
  },
  {
   "cell_type": "code",
   "execution_count": 2,
   "id": "03cba431-1b26-4225-955b-c37ed9808d40",
   "metadata": {},
   "outputs": [],
   "source": [
    "#Load data\n",
    "df = pd.read_excel(r\"C:\\Users\\SD\\Downloads\\online+retail\\Online Retail.xlsx\")"
   ]
  },
  {
   "cell_type": "code",
   "execution_count": 3,
   "id": "ec2efb1c-3452-44c8-8c87-42cacb1626ac",
   "metadata": {},
   "outputs": [
    {
     "data": {
      "text/html": [
       "<div>\n",
       "<style scoped>\n",
       "    .dataframe tbody tr th:only-of-type {\n",
       "        vertical-align: middle;\n",
       "    }\n",
       "\n",
       "    .dataframe tbody tr th {\n",
       "        vertical-align: top;\n",
       "    }\n",
       "\n",
       "    .dataframe thead th {\n",
       "        text-align: right;\n",
       "    }\n",
       "</style>\n",
       "<table border=\"1\" class=\"dataframe\">\n",
       "  <thead>\n",
       "    <tr style=\"text-align: right;\">\n",
       "      <th></th>\n",
       "      <th>InvoiceNo</th>\n",
       "      <th>StockCode</th>\n",
       "      <th>Description</th>\n",
       "      <th>Quantity</th>\n",
       "      <th>InvoiceDate</th>\n",
       "      <th>UnitPrice</th>\n",
       "      <th>CustomerID</th>\n",
       "      <th>Country</th>\n",
       "    </tr>\n",
       "  </thead>\n",
       "  <tbody>\n",
       "    <tr>\n",
       "      <th>0</th>\n",
       "      <td>536365</td>\n",
       "      <td>85123A</td>\n",
       "      <td>WHITE HANGING HEART T-LIGHT HOLDER</td>\n",
       "      <td>6</td>\n",
       "      <td>2010-12-01 08:26:00</td>\n",
       "      <td>2.55</td>\n",
       "      <td>17850.0</td>\n",
       "      <td>United Kingdom</td>\n",
       "    </tr>\n",
       "  </tbody>\n",
       "</table>\n",
       "</div>"
      ],
      "text/plain": [
       "  InvoiceNo StockCode                         Description  Quantity  \\\n",
       "0    536365    85123A  WHITE HANGING HEART T-LIGHT HOLDER         6   \n",
       "\n",
       "          InvoiceDate  UnitPrice  CustomerID         Country  \n",
       "0 2010-12-01 08:26:00       2.55     17850.0  United Kingdom  "
      ]
     },
     "execution_count": 3,
     "metadata": {},
     "output_type": "execute_result"
    }
   ],
   "source": [
    "df.head(1)"
   ]
  },
  {
   "cell_type": "code",
   "execution_count": 4,
   "id": "fd52ff50-74f5-4b62-99e8-12a765510465",
   "metadata": {},
   "outputs": [],
   "source": [
    "# Basic cleaning\n",
    "\n",
    "df.dropna(subset=['CustomerID'], inplace=True)\n",
    "\n",
    "df = df[df['Quantity'] > 0]\n",
    "\n",
    "df = df[df['UnitPrice'] > 0]"
   ]
  },
  {
   "cell_type": "code",
   "execution_count": 5,
   "id": "96230110-5034-4aaf-aee4-7bba20eafc4a",
   "metadata": {},
   "outputs": [],
   "source": [
    "# Create TotalPrice column\n",
    "\n",
    "df['TotalPrice'] = df['Quantity'] * df['UnitPrice']"
   ]
  },
  {
   "cell_type": "code",
   "execution_count": 6,
   "id": "e999415f-d0de-4119-b915-581e0aff5320",
   "metadata": {},
   "outputs": [
    {
     "name": "stdout",
     "output_type": "stream",
     "text": [
      "<class 'pandas.core.frame.DataFrame'>\n",
      "Index: 397884 entries, 0 to 541908\n",
      "Data columns (total 9 columns):\n",
      " #   Column       Non-Null Count   Dtype         \n",
      "---  ------       --------------   -----         \n",
      " 0   InvoiceNo    397884 non-null  object        \n",
      " 1   StockCode    397884 non-null  object        \n",
      " 2   Description  397884 non-null  object        \n",
      " 3   Quantity     397884 non-null  int64         \n",
      " 4   InvoiceDate  397884 non-null  datetime64[ns]\n",
      " 5   UnitPrice    397884 non-null  float64       \n",
      " 6   CustomerID   397884 non-null  float64       \n",
      " 7   Country      397884 non-null  object        \n",
      " 8   TotalPrice   397884 non-null  float64       \n",
      "dtypes: datetime64[ns](1), float64(3), int64(1), object(4)\n",
      "memory usage: 30.4+ MB\n"
     ]
    }
   ],
   "source": [
    "df.info()"
   ]
  },
  {
   "cell_type": "code",
   "execution_count": 7,
   "id": "ab2acdf8-1784-4921-809e-d8446ba0084f",
   "metadata": {},
   "outputs": [],
   "source": [
    "# Remove refunds (Invoice starting with \"C\")\n",
    "df = df[~df['InvoiceNo'].astype(str).str.startswith('C')]"
   ]
  },
  {
   "cell_type": "code",
   "execution_count": 8,
   "id": "f9688115-7ab1-40d5-866d-696d77a6a6f2",
   "metadata": {},
   "outputs": [
    {
     "name": "stdout",
     "output_type": "stream",
     "text": [
      "<class 'pandas.core.frame.DataFrame'>\n",
      "Index: 397884 entries, 0 to 541908\n",
      "Data columns (total 9 columns):\n",
      " #   Column       Non-Null Count   Dtype         \n",
      "---  ------       --------------   -----         \n",
      " 0   InvoiceNo    397884 non-null  object        \n",
      " 1   StockCode    397884 non-null  object        \n",
      " 2   Description  397884 non-null  object        \n",
      " 3   Quantity     397884 non-null  int64         \n",
      " 4   InvoiceDate  397884 non-null  datetime64[ns]\n",
      " 5   UnitPrice    397884 non-null  float64       \n",
      " 6   CustomerID   397884 non-null  float64       \n",
      " 7   Country      397884 non-null  object        \n",
      " 8   TotalPrice   397884 non-null  float64       \n",
      "dtypes: datetime64[ns](1), float64(3), int64(1), object(4)\n",
      "memory usage: 30.4+ MB\n"
     ]
    }
   ],
   "source": [
    "df.info()"
   ]
  },
  {
   "cell_type": "code",
   "execution_count": 9,
   "id": "22d575eb-5303-4c23-b8ba-9837e1f1cd32",
   "metadata": {},
   "outputs": [],
   "source": [
    "\n",
    "# Use UK customers only for simplicity\n",
    "df = df[df['Country'] == 'United Kingdom']"
   ]
  },
  {
   "cell_type": "code",
   "execution_count": 11,
   "id": "1a1b49e3-6d4e-4c00-b755-bf3a02af4847",
   "metadata": {},
   "outputs": [
    {
     "data": {
      "text/plain": [
       "Country\n",
       "United Kingdom    354321\n",
       "Name: count, dtype: int64"
      ]
     },
     "execution_count": 11,
     "metadata": {},
     "output_type": "execute_result"
    }
   ],
   "source": [
    "df['Country'].value_counts()"
   ]
  },
  {
   "cell_type": "code",
   "execution_count": 12,
   "id": "8b5240b2-c7d1-4c12-bbe8-6024a792ef60",
   "metadata": {},
   "outputs": [],
   "source": [
    "# Create summary (RFM) data for lifetimes\n",
    "\n",
    "snapshot_date = df['InvoiceDate'].max() + pd.Timedelta(days=1)\n",
    "\n",
    "summary = summary_data_from_transaction_data(\n",
    "    df, 'CustomerID', 'InvoiceDate', monetary_value_col='TotalPrice', observation_period_end=snapshot_date\n",
    ")"
   ]
  },
  {
   "cell_type": "code",
   "execution_count": 13,
   "id": "b1d7007e-632b-4164-8afc-ecfe139d72f4",
   "metadata": {},
   "outputs": [],
   "source": [
    "# Filter out customers with zero monetary value\n",
    "summary = summary[summary['monetary_value'] > 0]\n"
   ]
  },
  {
   "cell_type": "code",
   "execution_count": 15,
   "id": "b517e6cc-aa05-4a6b-8aab-474af796537d",
   "metadata": {},
   "outputs": [
    {
     "data": {
      "text/html": [
       "<div>\n",
       "<style scoped>\n",
       "    .dataframe tbody tr th:only-of-type {\n",
       "        vertical-align: middle;\n",
       "    }\n",
       "\n",
       "    .dataframe tbody tr th {\n",
       "        vertical-align: top;\n",
       "    }\n",
       "\n",
       "    .dataframe thead th {\n",
       "        text-align: right;\n",
       "    }\n",
       "</style>\n",
       "<table border=\"1\" class=\"dataframe\">\n",
       "  <thead>\n",
       "    <tr style=\"text-align: right;\">\n",
       "      <th></th>\n",
       "      <th>frequency</th>\n",
       "      <th>recency</th>\n",
       "      <th>T</th>\n",
       "      <th>monetary_value</th>\n",
       "    </tr>\n",
       "    <tr>\n",
       "      <th>CustomerID</th>\n",
       "      <th></th>\n",
       "      <th></th>\n",
       "      <th></th>\n",
       "      <th></th>\n",
       "    </tr>\n",
       "  </thead>\n",
       "  <tbody>\n",
       "    <tr>\n",
       "      <th>12747.0</th>\n",
       "      <td>10.0</td>\n",
       "      <td>367.0</td>\n",
       "      <td>370.0</td>\n",
       "      <td>383.745000</td>\n",
       "    </tr>\n",
       "    <tr>\n",
       "      <th>12748.0</th>\n",
       "      <td>112.0</td>\n",
       "      <td>373.0</td>\n",
       "      <td>374.0</td>\n",
       "      <td>301.024821</td>\n",
       "    </tr>\n",
       "  </tbody>\n",
       "</table>\n",
       "</div>"
      ],
      "text/plain": [
       "            frequency  recency      T  monetary_value\n",
       "CustomerID                                           \n",
       "12747.0          10.0    367.0  370.0      383.745000\n",
       "12748.0         112.0    373.0  374.0      301.024821"
      ]
     },
     "execution_count": 15,
     "metadata": {},
     "output_type": "execute_result"
    }
   ],
   "source": [
    "summary.head(2)"
   ]
  },
  {
   "cell_type": "code",
   "execution_count": 16,
   "id": "e9eb602b-d84a-4f5e-99ee-b4f8d15afc54",
   "metadata": {},
   "outputs": [
    {
     "data": {
      "text/plain": [
       "<lifetimes.BetaGeoFitter: fitted with 2522 subjects, a: 0.01, alpha: 107.67, b: 0.19, r: 1.90>"
      ]
     },
     "execution_count": 16,
     "metadata": {},
     "output_type": "execute_result"
    }
   ],
   "source": [
    "# Fit BG/NBD model (transaction frequency model)\n",
    "bgf = BetaGeoFitter(penalizer_coef=0.001)\n",
    "\n",
    "bgf.fit(summary['frequency'], summary['recency'], summary['T'])"
   ]
  },
  {
   "cell_type": "code",
   "execution_count": 17,
   "id": "02f8d13e-5832-44df-880f-4ab4ebbe7e19",
   "metadata": {},
   "outputs": [],
   "source": [
    "# Predict transactions for next 6 months\n",
    "\n",
    "summary['predicted_purchases_6m'] = bgf.conditional_expected_number_of_purchases_up_to_time(\n",
    "    180, summary['frequency'], summary['recency'], summary['T']\n",
    ")\n"
   ]
  },
  {
   "cell_type": "code",
   "execution_count": 18,
   "id": "183104a9-b2fa-4fea-86b1-642378215d9d",
   "metadata": {},
   "outputs": [
    {
     "data": {
      "text/plain": [
       "<lifetimes.GammaGammaFitter: fitted with 2522 subjects, p: 11.13, q: 0.86, v: 11.33>"
      ]
     },
     "execution_count": 18,
     "metadata": {},
     "output_type": "execute_result"
    }
   ],
   "source": [
    "# Fit Gamma-Gamma model (monetary value model)\n",
    "ggf = GammaGammaFitter(penalizer_coef=0.001)\n",
    "\n",
    "\n",
    "ggf.fit(summary['frequency'], summary['monetary_value'])"
   ]
  },
  {
   "cell_type": "code",
   "execution_count": 19,
   "id": "69517580-5594-473a-8363-7f2c8787050b",
   "metadata": {},
   "outputs": [],
   "source": [
    "# Predict average monetary value\n",
    "summary['expected_avg_value'] = ggf.conditional_expected_average_profit(\n",
    "    summary['frequency'], summary['monetary_value']\n",
    ")"
   ]
  },
  {
   "cell_type": "code",
   "execution_count": 20,
   "id": "2fa2e31d-b04d-4800-93d6-c6f7895276b9",
   "metadata": {},
   "outputs": [],
   "source": [
    "# Compute 6-month CLV\n",
    "\n",
    "summary['clv_6m'] = ggf.customer_lifetime_value(\n",
    "    bgf, summary['frequency'], summary['recency'], summary['T'],\n",
    "    summary['monetary_value'], time=6, discount_rate=0.01\n",
    ")"
   ]
  },
  {
   "cell_type": "code",
   "execution_count": 21,
   "id": "7ca374a0-eff0-4839-8b2c-987873a65bcd",
   "metadata": {},
   "outputs": [
    {
     "name": "stdout",
     "output_type": "stream",
     "text": [
      "                   clv_6m  predicted_purchases_6m  expected_avg_value\n",
      "CustomerID                                                           \n",
      "16446.0     258985.367648                1.571334       170625.879255\n",
      "18102.0      91775.441767               10.156743         9354.634331\n",
      "17450.0      75368.890413               10.531844         7408.708304\n",
      "14096.0      60204.929819               15.293802         4075.344499\n",
      "17511.0      34422.441220               10.776053         3307.020123\n",
      "16029.0      29043.083228               14.769538         2035.780065\n",
      "16684.0      27620.757058                6.500738         4398.728484\n",
      "13694.0      24429.151278               13.387113         1889.193522\n",
      "15311.0      22204.314368               33.907314          677.952507\n",
      "15769.0      22160.521751                8.571802         2676.471269\n"
     ]
    }
   ],
   "source": [
    "# View top customers by CLV\n",
    "\n",
    "top_customers = summary.sort_values('clv_6m', ascending=False).head(10)\n",
    "\n",
    "print(top_customers[['clv_6m', 'predicted_purchases_6m', 'expected_avg_value']])"
   ]
  },
  {
   "cell_type": "code",
   "execution_count": 22,
   "id": "d57b5065-b71a-4f00-add7-6381795c1e32",
   "metadata": {},
   "outputs": [
    {
     "data": {
      "image/png": "[encoded data removed]",
      "text/plain": [
       "<Figure size 1000x600 with 1 Axes>"
      ]
     },
     "metadata": {},
     "output_type": "display_data"
    }
   ],
   "source": [
    "# Plot distribution of CLV\n",
    "plt.figure(figsize=(10,6))\n",
    "sns.histplot(summary['clv_6m'], bins=50, kde=True)\n",
    "plt.title('Customer Lifetime Value (6 months)')\n",
    "plt.xlabel('CLV')\n",
    "plt.ylabel('Number of Customers')\n",
    "plt.show()"
   ]
  },
  {
   "cell_type": "code",
   "execution_count": null,
   "id": "1bc043d1-50fc-4225-99ac-1cb81318173f",
   "metadata": {},
   "outputs": [],
   "source": []
  }
 ],
 "metadata": {
  "kernelspec": {
   "display_name": "Python 3 (ipykernel)",
   "language": "python",
   "name": "python3"
  },
  "language_info": {
   "codemirror_mode": {
    "name": "ipython",
    "version": 3
   },
   "file_extension": ".py",
   "mimetype": "text/x-python",
   "name": "python",
   "nbconvert_exporter": "python",
   "pygments_lexer": "ipython3",
   "version": "3.13.1"
  }
 },
 "nbformat": 4,
 "nbformat_minor": 5
}
